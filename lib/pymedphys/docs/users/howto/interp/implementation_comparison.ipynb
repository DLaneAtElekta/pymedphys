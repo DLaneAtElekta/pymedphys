{
 "cells": [
  {
   "cell_type": "markdown",
   "metadata": {},
   "source": [
    "# Multilinear Interpolation Comparison"
   ]
  },
  {
   "cell_type": "markdown",
   "metadata": {},
   "source": [
    "### Imports"
   ]
  },
  {
   "cell_type": "code",
   "execution_count": null,
   "metadata": {},
   "outputs": [],
   "source": [
    "%pip install interpolation\n",
    "%pip install -e .\n",
    "%pip install numba==0.59.1\n",
    "\n",
    "import timeit\n",
    "\n",
    "from matplotlib import pyplot as plt\n",
    "import numpy as np\n",
    "import scipy\n",
    "import interpolation\n",
    "\n",
    "import pymedphys\n"
   ]
  },
  {
   "cell_type": "code",
   "execution_count": null,
   "metadata": {},
   "outputs": [],
   "source": [
    "def interp3d_econforge(axes, values, points):\n",
    "    grid = interpolation.splines.CGrid(*axes)\n",
    "    return interpolation.splines.eval_linear(grid, values, points)\n"
   ]
  },
  {
   "cell_type": "code",
   "execution_count": null,
   "metadata": {},
   "outputs": [],
   "source": [
    "def interp3d_scipy(axes, values, points):\n",
    "    interpolator = scipy.interpolate.RegularGridInterpolator(axes, values)\n",
    "    return interpolator(points)\n"
   ]
  },
  {
   "cell_type": "code",
   "execution_count": null,
   "metadata": {},
   "outputs": [],
   "source": [
    "def benchmark(n_values, interpolation_multiples):\n",
    "    results = {\n",
    "        \"n_values\": [],\n",
    "        \"interpolation_multiples\": [],\n",
    "        \"PyMedPhys native time\": [],\n",
    "        \"EconForge time\": [],\n",
    "        \"Scipy time\": [],\n",
    "    }\n",
    "\n",
    "    for n in n_values:\n",
    "        for multiple in interpolation_multiples:\n",
    "            x = y = z = np.linspace(0, 1, n, dtype=np.float64)\n",
    "            values = np.random.rand(n, n, n)\n",
    "            xi = yi = zi = np.linspace(0, 1, n * multiple)\n",
    "            points = np.column_stack(\n",
    "                [mgrid.ravel() for mgrid in np.meshgrid(xi, yi, zi, indexing=\"ij\")]\n",
    "            )\n",
    "\n",
    "            results[\"n_values\"].append(n)\n",
    "            results[\"interpolation_multiples\"].append(multiple)\n",
    "\n",
    "            for method, name in [\n",
    "                (pymedphys.interp3d, \"PyMedPhys native time\"),\n",
    "                (interp3d_econforge, \"EconForge time\"),\n",
    "                (interp3d_scipy, \"Scipy time\"),\n",
    "            ]:\n",
    "                time = (\n",
    "                    timeit.timeit(\n",
    "                        lambda: method(tuple((x, y, z)), values, points), number=3\n",
    "                    )\n",
    "                    / 3\n",
    "                )\n",
    "                results[name].append(time)\n",
    "\n",
    "    return results\n",
    "\n",
    "\n",
    "def plot_results(results, fixed_multiple=3, fixed_n=100):\n",
    "    fig, (ax1, ax2) = plt.subplots(1, 2, figsize=(15, 6))\n",
    "\n",
    "    methods = [\"PyMedPhys native time\", \"EconForge time\", \"Scipy time\"]\n",
    "\n",
    "    # Left plot: Performance vs n for fixed multiple\n",
    "    for method in methods:\n",
    "        mask = np.array(results[\"interpolation_multiples\"]) == fixed_multiple\n",
    "        ax1.plot(\n",
    "            np.array(results[\"n_values\"])[mask],\n",
    "            np.array(results[method])[mask],\n",
    "            label=method,\n",
    "            marker=\"o\",\n",
    "        )\n",
    "\n",
    "    ax1.set_xlabel(\"Number of known points (n)\")\n",
    "    ax1.set_ylabel(\"Time (seconds)\")\n",
    "    ax1.set_title(f\"Performance vs. Number of Known Points (multiple={fixed_multiple})\")\n",
    "    ax1.legend()\n",
    "    ax1.set_xscale(\"log\")\n",
    "    ax1.set_yscale(\"log\")\n",
    "\n",
    "    # Right plot: Performance vs multiple for fixed n\n",
    "    for method in methods:\n",
    "        mask = np.array(results[\"n_values\"]) == fixed_n\n",
    "        ax2.plot(\n",
    "            np.array(results[\"interpolation_multiples\"])[mask],\n",
    "            np.array(results[method])[mask],\n",
    "            label=method,\n",
    "            marker=\"o\",\n",
    "        )\n",
    "\n",
    "    ax2.set_xlabel(\"Interpolation Multiple\")\n",
    "    ax2.set_ylabel(\"Time (seconds)\")\n",
    "    ax2.set_title(f\"Performance vs. Interpolation Multiple (n={fixed_n})\")\n",
    "    ax2.legend()\n",
    "    ax2.set_xscale(\"log\")\n",
    "    ax2.set_yscale(\"log\")\n",
    "\n",
    "    plt.tight_layout()\n",
    "    plt.show()\n"
   ]
  },
  {
   "cell_type": "code",
   "execution_count": null,
   "metadata": {},
   "outputs": [],
   "source": [
    "# Run the benchmark\n",
    "n_values = [10, 30, 100]\n",
    "interpolation_multiples = [2, 3, 4]\n",
    "results = benchmark(n_values, interpolation_multiples)\n",
    "\n",
    "# Plot the results\n",
    "plot_results(results, fixed_multiple=3, fixed_n=100)\n"
   ]
  }
 ],
 "metadata": {
  "kernelspec": {
   "display_name": "Python 3",
   "language": "python",
   "name": "python3"
  },
  "language_info": {
   "codemirror_mode": {
    "name": "ipython",
    "version": 3
   },
   "file_extension": ".py",
   "mimetype": "text/x-python",
   "name": "python",
   "nbconvert_exporter": "python",
   "pygments_lexer": "ipython3",
   "version": "3.12.3"
  }
 },
 "nbformat": 4,
 "nbformat_minor": 2
}
